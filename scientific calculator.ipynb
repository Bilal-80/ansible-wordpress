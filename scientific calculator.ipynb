{
  "nbformat": 4,
  "nbformat_minor": 0,
  "metadata": {
    "colab": {
      "provenance": [],
      "authorship_tag": "ABX9TyMbOuU6OxHyqw4/ZTJpfiEd",
      "include_colab_link": true
    },
    "kernelspec": {
      "name": "python3",
      "display_name": "Python 3"
    },
    "language_info": {
      "name": "python"
    }
  },
  "cells": [
    {
      "cell_type": "markdown",
      "metadata": {
        "id": "view-in-github",
        "colab_type": "text"
      },
      "source": [
        "<a href=\"https://colab.research.google.com/github/Bilal-80/ansible-wordpress/blob/master/scientific%20calculator.ipynb\" target=\"_parent\"><img src=\"https://colab.research.google.com/assets/colab-badge.svg\" alt=\"Open In Colab\"/></a>"
      ]
    },
    {
      "cell_type": "code",
      "execution_count": 34,
      "metadata": {
        "colab": {
          "base_uri": "https://localhost:8080/"
        },
        "id": "rwMmg9GJs8Wy",
        "outputId": "cd41b71d-b348-496a-ddc0-20dabe1dca22"
      },
      "outputs": [
        {
          "output_type": "stream",
          "name": "stdout",
          "text": [
            "Scientific Calculator\n",
            "Available operations:\n",
            "1. Addition (+)\n",
            "2. Subtraction (-)\n",
            "3. Multiplication (*)\n",
            "4. Division (/)\n",
            "5. Exponent (^)\n",
            "6. Square Root (√)\n",
            "7. Logarithm (log)\n",
            "8. Sine (sin)\n",
            "9. Cosine (cos)\n",
            "10. Tangent (tan)\n",
            "\n",
            "Select an operation (1-10) or 'q' to quit: 1\n",
            "Enter the first number: 65\n",
            "Enter the second number: 25\n",
            "Result: 90.0\n",
            "\n",
            "Select an operation (1-10) or 'q' to quit: 4\n",
            "Enter the first number: 98\n",
            "Enter the second number: 15\n",
            "Result: 6.533333333333333\n",
            "\n",
            "Select an operation (1-10) or 'q' to quit: q\n",
            "Exiting the calculator. Goodbye!\n"
          ]
        }
      ],
      "source": [
        "import streamlit as st\n",
        "import math\n",
        "\n",
        "# Set the title for the calculator\n",
        "st.title(\"Scientific Calculator\")\n",
        "\n",
        "# Display input fields for numbers and operators\n",
        "st.write(\"### Enter the values and select the operation\")\n",
        "\n",
        "# Input numbers\n",
        "num1 = st.number_input(\"Enter the first number:\", format=\"%.10f\")\n",
        "num2 = st.number_input(\"Enter the second number (if needed):\", format=\"%.10f\")\n",
        "\n",
        "# Select operation\n",
        "operation = st.selectbox(\"Choose an operation:\", [\"Addition\", \"Subtraction\", \"Multiplication\", \"Division\",\n",
        "                                                  \"Exponentiation\", \"Square Root\", \"Sine\", \"Cosine\", \"Tangent\",\n",
        "                                                  \"Logarithm\"])\n",
        "\n",
        "# Display the result\n",
        "result = None\n",
        "\n",
        "try:\n",
        "    if operation == \"Addition\":\n",
        "        result = num1 + num2\n",
        "    elif operation == \"Subtraction\":\n",
        "        result = num1 - num2\n",
        "    elif operation == \"Multiplication\":\n",
        "        result = num1 * num2\n",
        "    elif operation == \"Division\":\n",
        "        result = num1 / num2 if num2 != 0 else \"Cannot divide by zero\"\n",
        "    elif operation == \"Exponentiation\":\n",
        "        result = num1 ** num2\n",
        "    elif operation == \"Square Root\":\n",
        "        result = math.sqrt(num1) if num1 >= 0 else \"Square root of negative number is undefined\"\n",
        "    elif operation == \"Sine\":\n",
        "        result = math.sin(math.radians(num1))\n",
        "    elif operation == \"Cosine\":\n",
        "        result = math.cos(math.radians(num1))\n",
        "    elif operation == \"Tangent\":\n",
        "        result = math.tan(math.radians(num1))\n",
        "    elif operation == \"Logarithm\":\n",
        "        result = math.log(num1) if num1 > 0 else \"Logarithm of non-positive number is undefined\"\n",
        "\n",
        "    if isinstance(result, str):\n",
        "        st.error(result)\n",
        "    else:\n",
        "        st.success(f\"Result: {result}\")\n",
        "except Exception as e:\n",
        "    st.error(f\"Error: {e}\")\n"
      ]
    }
  ]
}